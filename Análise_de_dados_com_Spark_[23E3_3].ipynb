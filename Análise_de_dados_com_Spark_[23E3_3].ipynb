{
  "nbformat": 4,
  "nbformat_minor": 0,
  "metadata": {
    "colab": {
      "provenance": []
    },
    "kernelspec": {
      "name": "python3",
      "display_name": "Python 3"
    },
    "language_info": {
      "name": "python"
    }
  },
  "cells": [
    {
      "cell_type": "markdown",
      "source": [
        "**1 - Desenvolva um notebook bem documentado em Python utilizando a biblioteca PySpark para apresentar as análises realizadas no trabalho do Hadoop**"
      ],
      "metadata": {
        "id": "-b05K14F8wjh"
      }
    },
    {
      "cell_type": "code",
      "source": [
        "## configuração\n",
        "from google.colab import drive\n",
        "drive.mount('/content/drive')"
      ],
      "metadata": {
        "colab": {
          "base_uri": "https://localhost:8080/"
        },
        "id": "GervvTTZGVFk",
        "outputId": "43a16a6c-1d94-470a-b59c-ff86f280d550"
      },
      "execution_count": null,
      "outputs": [
        {
          "output_type": "stream",
          "name": "stdout",
          "text": [
            "Mounted at /content/drive\n"
          ]
        }
      ]
    },
    {
      "cell_type": "code",
      "source": [
        "!pip install pyspark"
      ],
      "metadata": {
        "colab": {
          "base_uri": "https://localhost:8080/"
        },
        "id": "lM7yVhMnJLKI",
        "outputId": "9f482fd0-c8eb-4623-cf1d-8561b867966a"
      },
      "execution_count": null,
      "outputs": [
        {
          "output_type": "stream",
          "name": "stdout",
          "text": [
            "Collecting pyspark\n",
            "  Downloading pyspark-3.5.0.tar.gz (316.9 MB)\n",
            "\u001b[2K     \u001b[90m━━━━━━━━━━━━━━━━━━━━━━━━━━━━━━━━━━━━━━━\u001b[0m \u001b[32m316.9/316.9 MB\u001b[0m \u001b[31m4.8 MB/s\u001b[0m eta \u001b[36m0:00:00\u001b[0m\n",
            "\u001b[?25h  Preparing metadata (setup.py) ... \u001b[?25l\u001b[?25hdone\n",
            "Requirement already satisfied: py4j==0.10.9.7 in /usr/local/lib/python3.10/dist-packages (from pyspark) (0.10.9.7)\n",
            "Building wheels for collected packages: pyspark\n",
            "  Building wheel for pyspark (setup.py) ... \u001b[?25l\u001b[?25hdone\n",
            "  Created wheel for pyspark: filename=pyspark-3.5.0-py2.py3-none-any.whl size=317425344 sha256=bf5d9852d70c796dac2f68e6534ec87521206f36f11b431572a2a136edf53186\n",
            "  Stored in directory: /root/.cache/pip/wheels/41/4e/10/c2cf2467f71c678cfc8a6b9ac9241e5e44a01940da8fbb17fc\n",
            "Successfully built pyspark\n",
            "Installing collected packages: pyspark\n",
            "Successfully installed pyspark-3.5.0\n"
          ]
        }
      ]
    },
    {
      "cell_type": "code",
      "source": [
        "from pyspark.sql import SparkSession\n",
        "from pyspark.sql.functions import count, desc , col, max"
      ],
      "metadata": {
        "id": "AA_M8WczJbJM",
        "colab": {
          "base_uri": "https://localhost:8080/",
          "height": 331
        },
        "outputId": "f3eb6637-e04f-4203-f839-303b3c472739"
      },
      "execution_count": null,
      "outputs": [
        {
          "output_type": "error",
          "ename": "ModuleNotFoundError",
          "evalue": "ignored",
          "traceback": [
            "\u001b[0;31m---------------------------------------------------------------------------\u001b[0m",
            "\u001b[0;31mModuleNotFoundError\u001b[0m                       Traceback (most recent call last)",
            "\u001b[0;32m<ipython-input-2-dcc110bdde2a>\u001b[0m in \u001b[0;36m<cell line: 1>\u001b[0;34m()\u001b[0m\n\u001b[0;32m----> 1\u001b[0;31m \u001b[0;32mfrom\u001b[0m \u001b[0mpyspark\u001b[0m\u001b[0;34m.\u001b[0m\u001b[0msql\u001b[0m \u001b[0;32mimport\u001b[0m \u001b[0mSparkSession\u001b[0m\u001b[0;34m\u001b[0m\u001b[0;34m\u001b[0m\u001b[0m\n\u001b[0m\u001b[1;32m      2\u001b[0m \u001b[0;32mfrom\u001b[0m \u001b[0mpyspark\u001b[0m\u001b[0;34m.\u001b[0m\u001b[0msql\u001b[0m\u001b[0;34m.\u001b[0m\u001b[0mfunctions\u001b[0m \u001b[0;32mimport\u001b[0m \u001b[0mcount\u001b[0m\u001b[0;34m,\u001b[0m \u001b[0mdesc\u001b[0m \u001b[0;34m,\u001b[0m \u001b[0mcol\u001b[0m\u001b[0;34m,\u001b[0m \u001b[0mmax\u001b[0m\u001b[0;34m\u001b[0m\u001b[0;34m\u001b[0m\u001b[0m\n",
            "\u001b[0;31mModuleNotFoundError\u001b[0m: No module named 'pyspark'",
            "",
            "\u001b[0;31m---------------------------------------------------------------------------\u001b[0;32m\nNOTE: If your import is failing due to a missing package, you can\nmanually install dependencies using either !pip or !apt.\n\nTo view examples of installing some common dependencies, click the\n\"Open Examples\" button below.\n\u001b[0;31m---------------------------------------------------------------------------\u001b[0m\n"
          ],
          "errorDetails": {
            "actions": [
              {
                "action": "open_url",
                "actionText": "Open Examples",
                "url": "/notebooks/snippets/importing_libraries.ipynb"
              }
            ]
          }
        }
      ]
    },
    {
      "cell_type": "markdown",
      "source": [
        "**1.1 - Time com o goleador mais eficiente**\n",
        "\n"
      ],
      "metadata": {
        "id": "giJtaDfJDv_u"
      }
    },
    {
      "cell_type": "code",
      "execution_count": null,
      "metadata": {
        "colab": {
          "base_uri": "https://localhost:8080/"
        },
        "id": "_YVDSG078a_E",
        "outputId": "bfaa2515-0d0a-48f7-dc17-bb243c7de744"
      },
      "outputs": [
        {
          "output_type": "stream",
          "name": "stdout",
          "text": [
            "<pyspark.sql.session.SparkSession object at 0x7f72941d4430>\n"
          ]
        }
      ],
      "source": [
        "spark = SparkSession.builder.appName('analise_1').getOrCreate()\n",
        "print(spark)"
      ]
    },
    {
      "cell_type": "code",
      "source": [
        "df_goals = spark.read.csv('/content/drive/MyDrive/Colab Notebooks/analise_dados_com_spark/goals.csv', inferSchema=True, header=True)"
      ],
      "metadata": {
        "id": "uCkK8XwCJwIp"
      },
      "execution_count": null,
      "outputs": []
    },
    {
      "cell_type": "code",
      "source": [
        "df_goals.createOrReplaceTempView('goals')"
      ],
      "metadata": {
        "id": "EvYSdVFbL-SV"
      },
      "execution_count": null,
      "outputs": []
    },
    {
      "cell_type": "code",
      "source": [
        "query_df_goals = spark.sql('SELECT * FROM goals limit 5')"
      ],
      "metadata": {
        "id": "z7bvt9qjNg76"
      },
      "execution_count": null,
      "outputs": []
    },
    {
      "cell_type": "code",
      "source": [
        "query_df_goals.show()"
      ],
      "metadata": {
        "colab": {
          "base_uri": "https://localhost:8080/"
        },
        "id": "CEok_1ujNl5s",
        "outputId": "41347c25-e359-45fa-e7b3-1b39ddcd5490"
      },
      "execution_count": null,
      "outputs": [
        {
          "output_type": "stream",
          "name": "stdout",
          "text": [
            "+------+-----------+-----------+----------+-----+----------+---------+-------+------+-----------+-------------+---------+------------+\n",
            "|serial|player_name|       club|  position|goals|right_foot|left_foot|headers|others|inside_area|outside_areas|penalties|match_played|\n",
            "+------+-----------+-----------+----------+-----+----------+---------+-------+------+-----------+-------------+---------+------------+\n",
            "|     1|    Benzema|Real Madrid|   Forward|   15|        11|        1|      3|     0|         13|            2|        3|          12|\n",
            "|     2|Lewandowski|     Bayern|   Forward|   13|         8|        3|      1|     1|         13|            0|        3|          10|\n",
            "|     3|     Haller|       Ajax|   Forward|   11|         3|        4|      3|     1|         11|            0|        1|           8|\n",
            "|     4|      Salah|  Liverpool|   Forward|    8|         0|        8|      0|     0|          7|            1|        1|          13|\n",
            "|     5|     Nkunku|    Leipzig|Midfielder|    7|         3|        1|      3|     0|          7|            0|        0|           6|\n",
            "+------+-----------+-----------+----------+-----+----------+---------+-------+------+-----------+-------------+---------+------------+\n",
            "\n"
          ]
        }
      ]
    },
    {
      "cell_type": "code",
      "source": [
        "df_attempts = spark.read.csv('/content/drive/MyDrive/Colab Notebooks/analise_dados_com_spark/attempts.csv', inferSchema=True, header=True)"
      ],
      "metadata": {
        "id": "ehvVmFMMPR2B"
      },
      "execution_count": null,
      "outputs": []
    },
    {
      "cell_type": "code",
      "source": [
        "df_attempts.createOrReplaceTempView('attempts')"
      ],
      "metadata": {
        "id": "vXk5_p36PisF"
      },
      "execution_count": null,
      "outputs": []
    },
    {
      "cell_type": "code",
      "source": [
        "query_df_attempts = spark.sql('SELECT * FROM attempts limit 5')"
      ],
      "metadata": {
        "id": "tjODZX6FPsJc"
      },
      "execution_count": null,
      "outputs": []
    },
    {
      "cell_type": "code",
      "source": [
        "query_df_attempts.show()"
      ],
      "metadata": {
        "colab": {
          "base_uri": "https://localhost:8080/"
        },
        "id": "VgchlNYShb4U",
        "outputId": "d41289a4-872a-4ea3-b627-057a5009c186"
      },
      "execution_count": null,
      "outputs": [
        {
          "output_type": "stream",
          "name": "stdout",
          "text": [
            "+------+-----------+-----------+----------+--------------+---------+----------+-------+------------+\n",
            "|serial|player_name|       club|  position|total_attempts|on_target|off_target|blocked|match_played|\n",
            "+------+-----------+-----------+----------+--------------+---------+----------+-------+------------+\n",
            "|     1|    Benzema|Real Madrid|   Forward|            45|       23|        13|      9|          12|\n",
            "|     2|      Salah|  Liverpool|   Forward|            42|       22|        11|      9|          13|\n",
            "|     3|     Mahrez|  Man. City|Midfielder|            37|       18|         8|     11|          12|\n",
            "|     4|       Sané|     Bayern|Midfielder|            33|       13|        12|      8|          10|\n",
            "|     5|Lewandowski|     Bayern|   Forward|            31|       19|         8|      4|          10|\n",
            "+------+-----------+-----------+----------+--------------+---------+----------+-------+------------+\n",
            "\n"
          ]
        }
      ]
    },
    {
      "cell_type": "code",
      "source": [
        "query = \"\"\"\n",
        "WITH top_5 as (\n",
        "SELECT g.player_name, g.goals\n",
        "  FROM goals g\n",
        "ORDER BY g.goals DESC\n",
        "LIMIT 5)\n",
        "SELECT att.club,\n",
        "       att.player_name,\n",
        "       att.total_attempts,\n",
        "       tp.goals,\n",
        "       (CAST(tp.goals AS FLOAT) / att.total_attempts) * 100 AS mean_goals\n",
        "  FROM attempts att\n",
        "  JOIN top_5 tp ON tp.player_name = att.player_name\n",
        "ORDER BY mean_goals desc;\n",
        "\"\"\"\n",
        "query_df = spark.sql(query);"
      ],
      "metadata": {
        "id": "Pirmkf6LlKG-"
      },
      "execution_count": null,
      "outputs": []
    },
    {
      "cell_type": "code",
      "source": [
        "query_df.show()"
      ],
      "metadata": {
        "colab": {
          "base_uri": "https://localhost:8080/"
        },
        "id": "Fi4UDS1bnm95",
        "outputId": "ea1c3c34-afcc-467a-fde1-be3d65ddff85"
      },
      "execution_count": null,
      "outputs": [
        {
          "output_type": "stream",
          "name": "stdout",
          "text": [
            "+-----------+-----------+--------------+-----+------------------+\n",
            "|       club|player_name|total_attempts|goals|        mean_goals|\n",
            "+-----------+-----------+--------------+-----+------------------+\n",
            "|       Ajax|     Haller|            24|   11| 45.83333333333333|\n",
            "|     Bayern|Lewandowski|            31|   13|41.935483870967744|\n",
            "|    Leipzig|     Nkunku|            17|    7| 41.17647058823529|\n",
            "|Real Madrid|    Benzema|            45|   15| 33.33333333333333|\n",
            "|  Liverpool|      Salah|            42|    8|19.047619047619047|\n",
            "+-----------+-----------+--------------+-----+------------------+\n",
            "\n"
          ]
        }
      ]
    },
    {
      "cell_type": "markdown",
      "source": [
        "**1.2 - Time composto com os melhores jogadores de defesa**"
      ],
      "metadata": {
        "id": "wdoCwYtuuCcn"
      }
    },
    {
      "cell_type": "markdown",
      "source": [
        "Para poder chegar no resultado, foi necessário colocar peso em alguns dados, exclusivamente pessoal. No nosso esquema de dados, temos:\n",
        "\n",
        "**Defending**\n",
        "*   balls_recovered = 0.5\n",
        "*   tackles = 0.5\n",
        "*   t_won = 1\n",
        "\n",
        "**Disciplinary**\n",
        "*   fouls_committed = -0.5\n",
        "*   red = -2\n",
        "*   yellow = -1\n",
        "\n",
        "\n",
        "\n"
      ],
      "metadata": {
        "id": "BPGl3wbW0-4Y"
      }
    },
    {
      "cell_type": "code",
      "source": [
        "df_defending = spark.read.csv('/content/drive/MyDrive/Colab Notebooks/analise_dados_com_spark/defending.csv', inferSchema=True, header=True)"
      ],
      "metadata": {
        "id": "Cmtcb8W-uJ4o"
      },
      "execution_count": null,
      "outputs": []
    },
    {
      "cell_type": "code",
      "source": [
        "df_defending.createOrReplaceTempView('defending')"
      ],
      "metadata": {
        "id": "h9qvoWPC2ldN"
      },
      "execution_count": null,
      "outputs": []
    },
    {
      "cell_type": "code",
      "source": [
        "df_disciplinary = spark.read.csv('/content/drive/MyDrive/Colab Notebooks/analise_dados_com_spark/disciplinary.csv', inferSchema=True, header=True)"
      ],
      "metadata": {
        "id": "gv_j5lW22rzn"
      },
      "execution_count": null,
      "outputs": []
    },
    {
      "cell_type": "code",
      "source": [
        "df_disciplinary.createOrReplaceTempView('disciplinary')"
      ],
      "metadata": {
        "id": "AWFVKzse20ib"
      },
      "execution_count": null,
      "outputs": []
    },
    {
      "cell_type": "markdown",
      "source": [
        "Sendo assim, rodamos o SQL abaixo e obtivemos os primeiros jogadores no ranking de defesa, com Casemiro (Real Madrid) em 1º, seguido por Otamendi (Benfica) em 2º e Fabinho (Liverpool) em 3º."
      ],
      "metadata": {
        "id": "dtcY5Xyu27Tx"
      }
    },
    {
      "cell_type": "code",
      "source": [
        "query = \"\"\"\n",
        "SELECT club, player_name, sum(pt_br) + sum(pt_tk) + sum(pt_tw) +  sum(pt_fo) + sum(pt_rd) + sum(pt_yw) AS resultado\n",
        "  FROM (\n",
        "        SELECT dc.club, dc.player_name, cast(0.5 * df.balls_recoverd AS FLOAT) AS pt_br, cast(0.5 * df.tackles AS FLOAT) AS pt_tk, df.t_won AS pt_tw, cast(-0.5 * dc.fouls_committed AS FLOAT) AS pt_fo, (-2 * dc.red) AS pt_rd, (-1 * dc.yellow) AS pt_yw\n",
        "          FROM defending df\n",
        "          JOIN disciplinary dc ON dc.player_name = df.player_name\n",
        "         WHERE df.position IN ('Midfielder', 'Defender')\n",
        "           AND df.match_played > 5\n",
        "  ) t\n",
        "GROUP BY club, player_name\n",
        "ORDER BY resultado DESC;\n",
        "\"\"\"\n",
        "query_df = spark.sql(query);"
      ],
      "metadata": {
        "id": "TtFMiuv728gu"
      },
      "execution_count": null,
      "outputs": []
    },
    {
      "cell_type": "code",
      "source": [
        "query_df.show()"
      ],
      "metadata": {
        "colab": {
          "base_uri": "https://localhost:8080/"
        },
        "id": "P0ha-a5b3t4A",
        "outputId": "feba0744-75ac-4df3-f935-a8c17be20d23"
      },
      "execution_count": null,
      "outputs": [
        {
          "output_type": "stream",
          "name": "stdout",
          "text": [
            "+-----------+-----------------+---------+\n",
            "|       club|      player_name|resultado|\n",
            "+-----------+-----------------+---------+\n",
            "|Real Madrid|         Casemiro|     52.0|\n",
            "|    Benfica|         Otamendi|     50.0|\n",
            "|  Liverpool|          Fabinho|     48.5|\n",
            "| Villarreal|            Foyth|     41.0|\n",
            "| Villarreal|           Albiol|     40.5|\n",
            "|Real Madrid|            Alaba|     39.0|\n",
            "|   Atlético|         Reinildo|     39.0|\n",
            "|       LOSC|            André|     38.0|\n",
            "|  Liverpool|           Konaté|     38.0|\n",
            "|Real Madrid|     Éder Militão|     37.0|\n",
            "|    Chelsea|     Thiago Silva|     36.0|\n",
            "|     Bayern|           Pavard|     36.0|\n",
            "|    Sheriff|Fernando Costanza|     35.0|\n",
            "| Villarreal|           Parejo|     34.5|\n",
            "|  Liverpool| Thiago Alcántara|     34.5|\n",
            "|    Benfica|       Vertonghen|     33.5|\n",
            "| Young Boys|           Lauper|     33.0|\n",
            "| Young Boys|           Camara|     32.5|\n",
            "|    Benfica|            Weigl|     32.0|\n",
            "|       Ajax|         Mazraoui|     31.5|\n",
            "+-----------+-----------------+---------+\n",
            "only showing top 20 rows\n",
            "\n"
          ]
        }
      ]
    },
    {
      "cell_type": "markdown",
      "source": [
        "Mas será que o Real Madrid possui no geral, os melhores jogadores de defesa? Para descobrir rodamos a consulta abaixo:"
      ],
      "metadata": {
        "id": "E8OVmTx9318o"
      }
    },
    {
      "cell_type": "code",
      "source": [
        "query = \"\"\"\n",
        "WITH dados_top_def AS (\n",
        "SELECT club, player_name, sum(pt_br) + sum(pt_tk) + sum(pt_tw) +  sum(pt_fo) + sum(pt_rd) + sum(pt_yw) AS resultado\n",
        "  FROM (\n",
        "        SELECT dc.club, dc.player_name, cast(0.5 * df.balls_recoverd AS FLOAT) AS pt_br, cast(0.5 * df.tackles AS FLOAT) AS pt_tk, df.t_won AS pt_tw, cast(-0.5 * dc.fouls_committed AS FLOAT) as pt_fo, (-2 * dc.red) AS pt_rd, (-1 * dc.yellow) AS pt_yw\n",
        "          FROM defending df\n",
        "          JOIN disciplinary dc ON dc.player_name = df.player_name\n",
        "         WHERE df.position IN ('Midfielder', 'Defender')\n",
        "           AND df.match_played > 5\n",
        "  ) t\n",
        "GROUP BY club, player_name)\n",
        "SELECT club, sum(resultado) as resultado\n",
        "  FROM dados_top_def\n",
        "GROUP BY club\n",
        "ORDER BY resultado DESC;\n",
        "\"\"\"\n",
        "query_df = spark.sql(query);"
      ],
      "metadata": {
        "id": "DUCTi1ih32qD"
      },
      "execution_count": null,
      "outputs": []
    },
    {
      "cell_type": "code",
      "source": [
        "query_df.show()"
      ],
      "metadata": {
        "colab": {
          "base_uri": "https://localhost:8080/"
        },
        "id": "_Xa8oMjX37ne",
        "outputId": "5ad39ca9-99b0-4f77-f3e9-d68e01e518ee"
      },
      "execution_count": null,
      "outputs": [
        {
          "output_type": "stream",
          "name": "stdout",
          "text": [
            "+-----------+---------+\n",
            "|       club|resultado|\n",
            "+-----------+---------+\n",
            "|Real Madrid|    280.0|\n",
            "|  Liverpool|    246.0|\n",
            "| Villarreal|    226.0|\n",
            "|  Man. City|    212.5|\n",
            "|      Inter|    193.0|\n",
            "|     Bayern|    182.0|\n",
            "|   Atlético|    180.5|\n",
            "|    Benfica|    179.5|\n",
            "|    Chelsea|    174.0|\n",
            "|   Salzburg|    150.0|\n",
            "|       LOSC|    133.5|\n",
            "|    Sheriff|    127.0|\n",
            "|       Ajax|    124.0|\n",
            "|   Juventus|    120.5|\n",
            "| Young Boys|    115.0|\n",
            "|Sporting CP|    100.0|\n",
            "|      Paris|     92.5|\n",
            "|Man. United|     89.0|\n",
            "|      Zenit|     82.0|\n",
            "|Club Brugge|     81.5|\n",
            "+-----------+---------+\n",
            "only showing top 20 rows\n",
            "\n"
          ]
        }
      ]
    },
    {
      "cell_type": "markdown",
      "source": [
        "**1.3 - **"
      ],
      "metadata": {
        "id": "wLNN-vPR5Joy"
      }
    },
    {
      "cell_type": "code",
      "source": [
        "df_goalkeeping = spark.read.csv('/content/drive/MyDrive/Colab Notebooks/analise_dados_com_spark/goalkeeping.csv', inferSchema=True, header=True)"
      ],
      "metadata": {
        "id": "gwMspMUX-BIT"
      },
      "execution_count": null,
      "outputs": []
    },
    {
      "cell_type": "code",
      "source": [
        "\n",
        "df.groupBy('nome_da_coluna').count().show()\n",
        "df.groupBy('nome_da_coluna').min().show()\n",
        "df.groupBy('nome_da_coluna').max().show()\n",
        "df.groupBy('nome_da_coluna').avg().show()\n",
        "df.groupBy('nome_da_coluna').sum().show()"
      ],
      "metadata": {
        "id": "_WXZRUK0_hCk"
      },
      "execution_count": null,
      "outputs": []
    },
    {
      "cell_type": "markdown",
      "source": [
        "**2 - Desenvolva um notebook bem documentado em Python utilizando a biblioteca PySpark para treinar um modelo de aprendizado de máquina**"
      ],
      "metadata": {
        "id": "3jXJe9MU5dJ0"
      }
    },
    {
      "cell_type": "code",
      "source": [
        "# Importando as bibliotecas necessárias\n",
        "from pyspark.sql import SparkSession\n",
        "from pyspark.ml.regression import LinearRegression\n",
        "from pyspark.ml.feature import VectorAssembler\n",
        "from pyspark.ml.evaluation import RegressionEvaluator"
      ],
      "metadata": {
        "id": "ZN9ijtAm5mVI"
      },
      "execution_count": null,
      "outputs": []
    },
    {
      "cell_type": "code",
      "source": [
        "# Criando uma sessão Spark\n",
        "spark = SparkSession.builder.appName('linear_regression').getOrCreate()"
      ],
      "metadata": {
        "id": "0ODKav52VTwi"
      },
      "execution_count": null,
      "outputs": []
    },
    {
      "cell_type": "code",
      "source": [
        "# Carregando os dados\n",
        "df = spark.read.csv('/content/drive/MyDrive/Colab Notebooks/analise_dados_com_spark/Covid Data.csv', inferSchema=True, header=True)"
      ],
      "metadata": {
        "id": "-zl80DSlVVX5"
      },
      "execution_count": null,
      "outputs": []
    },
    {
      "cell_type": "code",
      "source": [
        "# Visualizando o dataframe\n",
        "df.show()"
      ],
      "metadata": {
        "colab": {
          "base_uri": "https://localhost:8080/"
        },
        "id": "auhAIrkxV8VE",
        "outputId": "356fe9f2-1a74-4018-bf7c-d32493971057"
      },
      "execution_count": null,
      "outputs": [
        {
          "output_type": "stream",
          "name": "stdout",
          "text": [
            "+-----+------------+---+------------+----------+-------+---------+---+--------+--------+----+------+-------+------------+-------------+--------------+-------+-------------+-------+--------------------+---+\n",
            "|USMER|MEDICAL_UNIT|SEX|PATIENT_TYPE| DATE_DIED|INTUBED|PNEUMONIA|AGE|PREGNANT|DIABETES|COPD|ASTHMA|INMSUPR|HIPERTENSION|OTHER_DISEASE|CARDIOVASCULAR|OBESITY|RENAL_CHRONIC|TOBACCO|CLASIFFICATION_FINAL|ICU|\n",
            "+-----+------------+---+------------+----------+-------+---------+---+--------+--------+----+------+-------+------------+-------------+--------------+-------+-------------+-------+--------------------+---+\n",
            "|    2|           1|  1|           1|03/05/2020|     97|        1| 65|       2|       2|   2|     2|      2|           1|            2|             2|      2|            2|      2|                   3| 97|\n",
            "|    2|           1|  2|           1|03/06/2020|     97|        1| 72|      97|       2|   2|     2|      2|           1|            2|             2|      1|            1|      2|                   5| 97|\n",
            "|    2|           1|  2|           2|09/06/2020|      1|        2| 55|      97|       1|   2|     2|      2|           2|            2|             2|      2|            2|      2|                   3|  2|\n",
            "|    2|           1|  1|           1|12/06/2020|     97|        2| 53|       2|       2|   2|     2|      2|           2|            2|             2|      2|            2|      2|                   7| 97|\n",
            "|    2|           1|  2|           1|21/06/2020|     97|        2| 68|      97|       1|   2|     2|      2|           1|            2|             2|      2|            2|      2|                   3| 97|\n",
            "|    2|           1|  1|           2|9999-99-99|      2|        1| 40|       2|       2|   2|     2|      2|           2|            2|             2|      2|            2|      2|                   3|  2|\n",
            "|    2|           1|  1|           1|9999-99-99|     97|        2| 64|       2|       2|   2|     2|      2|           2|            2|             2|      2|            2|      2|                   3| 97|\n",
            "|    2|           1|  1|           1|9999-99-99|     97|        1| 64|       2|       1|   2|     2|      1|           1|            2|             2|      2|            1|      2|                   3| 97|\n",
            "|    2|           1|  1|           2|9999-99-99|      2|        2| 37|       2|       1|   2|     2|      2|           1|            2|             2|      1|            2|      2|                   3|  2|\n",
            "|    2|           1|  1|           2|9999-99-99|      2|        2| 25|       2|       2|   2|     2|      2|           2|            2|             2|      2|            2|      2|                   3|  2|\n",
            "|    2|           1|  1|           1|9999-99-99|     97|        2| 38|       2|       2|   2|     2|      2|           2|            2|             2|      2|            2|      2|                   3| 97|\n",
            "|    2|           1|  2|           2|9999-99-99|      2|        2| 24|      97|       2|   2|     2|      2|           2|            2|             2|      2|            2|      2|                   3|  2|\n",
            "|    2|           1|  2|           2|9999-99-99|      2|        2| 30|      97|       2|   2|     2|      2|           2|            2|             2|      2|            2|      2|                   3|  2|\n",
            "|    2|           1|  2|           1|9999-99-99|     97|        2| 55|      97|       2|   2|     2|      2|           2|            2|             2|      2|            2|      2|                   3| 97|\n",
            "|    2|           1|  1|           1|9999-99-99|     97|        2| 48|       2|       1|   2|     2|      2|           2|            2|             2|      2|            2|      2|                   3| 97|\n",
            "|    2|           1|  1|           1|9999-99-99|     97|        2| 23|       2|       2|   2|     2|      2|           2|            2|             2|      2|            2|      2|                   3| 97|\n",
            "|    2|           1|  1|           2|9999-99-99|      2|        1| 80|       2|       2|   2|     2|      2|           1|            2|             2|      2|            2|      2|                   3|  1|\n",
            "|    2|           1|  2|           1|9999-99-99|     97|        2| 61|      97|       2|   2|     2|      2|           2|            2|             2|      2|            2|      2|                   3| 97|\n",
            "|    2|           1|  2|           1|9999-99-99|     97|        2| 54|      97|       2|   2|     2|      2|           2|            2|             2|      2|            2|      2|                   3| 97|\n",
            "|    2|           1|  1|           1|9999-99-99|     97|        2| 64|       2|       2|   2|     2|      2|           2|            2|             2|      2|            2|      2|                   3| 97|\n",
            "+-----+------------+---+------------+----------+-------+---------+---+--------+--------+----+------+-------+------------+-------------+--------------+-------+-------------+-------+--------------------+---+\n",
            "only showing top 20 rows\n",
            "\n"
          ]
        }
      ]
    },
    {
      "cell_type": "code",
      "source": [
        "from pyspark.sql import functions as F"
      ],
      "metadata": {
        "id": "HwAmt19OZoBq"
      },
      "execution_count": null,
      "outputs": []
    },
    {
      "cell_type": "code",
      "source": [
        "# Suponha que 'df' é seu DataFrame PySpark\n",
        "for c in df.columns:\n",
        "    unique_values = df.select(c).distinct().count()\n",
        "    if unique_values == 3 or unique_values == 4:\n",
        "        print(f\"{c}: {unique_values}\")"
      ],
      "metadata": {
        "colab": {
          "base_uri": "https://localhost:8080/"
        },
        "id": "M920O-wUeLd_",
        "outputId": "b83ad51a-f2be-4eaf-ddd7-8d2a92268f9e"
      },
      "execution_count": null,
      "outputs": [
        {
          "output_type": "stream",
          "name": "stdout",
          "text": [
            "INTUBED: 4\n",
            "PNEUMONIA: 3\n",
            "PREGNANT: 4\n",
            "DIABETES: 3\n",
            "COPD: 3\n",
            "ASTHMA: 3\n",
            "INMSUPR: 3\n",
            "HIPERTENSION: 3\n",
            "OTHER_DISEASE: 3\n",
            "CARDIOVASCULAR: 3\n",
            "OBESITY: 3\n",
            "RENAL_CHRONIC: 3\n",
            "TOBACCO: 3\n",
            "ICU: 4\n"
          ]
        }
      ]
    },
    {
      "cell_type": "code",
      "source": [
        "# Suponha que 'df' é seu DataFrame PySpark\n",
        "for c in df.columns:\n",
        "    unique_values = df.select(c).distinct().count()\n",
        "    if unique_values == 3 or unique_values == 4:\n",
        "        df.groupBy(c).agg((F.count(c)/df.count()).alias('normalize')).show()\n",
        "        print('--'*50)"
      ],
      "metadata": {
        "colab": {
          "base_uri": "https://localhost:8080/"
        },
        "id": "VqWRZXBpfYFi",
        "outputId": "00a54413-58e9-43e8-b678-283233fa0fe7"
      },
      "execution_count": null,
      "outputs": [
        {
          "output_type": "stream",
          "name": "stdout",
          "text": [
            "+-------+--------------------+\n",
            "|INTUBED|           normalize|\n",
            "+-------+--------------------+\n",
            "|      1|0.032096893402951625|\n",
            "|     97|  0.8092353908876332|\n",
            "|      2| 0.15168204467968432|\n",
            "|     99|0.006985671029730825|\n",
            "+-------+--------------------+\n",
            "\n",
            "----------------------------------------------------------------------------------------------------\n",
            "+---------+--------------------+\n",
            "|PNEUMONIA|           normalize|\n",
            "+---------+--------------------+\n",
            "|        1| 0.13355077128483894|\n",
            "|        2|  0.8511875640750542|\n",
            "|       99|0.015261664640106812|\n",
            "+---------+--------------------+\n",
            "\n",
            "----------------------------------------------------------------------------------------------------\n",
            "+--------+--------------------+\n",
            "|PREGNANT|           normalize|\n",
            "+--------+--------------------+\n",
            "|       1|0.007754333261807691|\n",
            "|      97| 0.49925947118708724|\n",
            "|      98|0.003580096798035429|\n",
            "|       2|  0.4894060987530696|\n",
            "+--------+--------------------+\n",
            "\n",
            "----------------------------------------------------------------------------------------------------\n",
            "+--------+--------------------+\n",
            "|DIABETES|           normalize|\n",
            "+--------+--------------------+\n",
            "|       1| 0.11919891281024247|\n",
            "|      98|0.003183367904060...|\n",
            "|       2|  0.8776177192856972|\n",
            "+--------+--------------------+\n",
            "\n",
            "----------------------------------------------------------------------------------------------------\n",
            "+----+--------------------+\n",
            "|COPD|           normalize|\n",
            "+----+--------------------+\n",
            "|   1|  0.0143642562525332|\n",
            "|  98|0.002863886703383163|\n",
            "|   2|  0.9827718570440837|\n",
            "+----+--------------------+\n",
            "\n",
            "----------------------------------------------------------------------------------------------------\n",
            "+------+--------------------+\n",
            "|ASTHMA|           normalize|\n",
            "+------+--------------------+\n",
            "|     1|0.030109434232172234|\n",
            "|    98|0.002840998497961519|\n",
            "|     2|  0.9670495672698662|\n",
            "+------+--------------------+\n",
            "\n",
            "----------------------------------------------------------------------------------------------------\n",
            "+-------+--------------------+\n",
            "|INMSUPR|           normalize|\n",
            "+-------+--------------------+\n",
            "|      1|0.013513577951028777|\n",
            "|     98|0.003246310468969...|\n",
            "|      2|  0.9832401115800015|\n",
            "+-------+--------------------+\n",
            "\n",
            "----------------------------------------------------------------------------------------------------\n",
            "+------------+--------------------+\n",
            "|HIPERTENSION|           normalize|\n",
            "+------------+--------------------+\n",
            "|           1| 0.15519061583577712|\n",
            "|          98|0.002960207901199...|\n",
            "|           2|  0.8418491762630236|\n",
            "+------------+--------------------+\n",
            "\n",
            "----------------------------------------------------------------------------------------------------\n",
            "+-------------+--------------------+\n",
            "|OTHER_DISEASE|           normalize|\n",
            "+-------------+--------------------+\n",
            "|            1| 0.02674105333428701|\n",
            "|           98|0.004811291514674...|\n",
            "|            2|  0.9684476551510384|\n",
            "+-------------+--------------------+\n",
            "\n",
            "----------------------------------------------------------------------------------------------------\n",
            "+--------------+--------------------+\n",
            "|CARDIOVASCULAR|           normalize|\n",
            "+--------------+--------------------+\n",
            "|             1| 0.01980688076675488|\n",
            "|            98|0.002933504994873...|\n",
            "|             2|  0.9772596142383712|\n",
            "+--------------+--------------------+\n",
            "\n",
            "----------------------------------------------------------------------------------------------------\n",
            "+-------+--------------------+\n",
            "|OBESITY|           normalize|\n",
            "+-------+--------------------+\n",
            "|      1| 0.15241255990272512|\n",
            "|     98|0.002891543284934...|\n",
            "|      2|  0.8446958968123406|\n",
            "+-------+--------------------+\n",
            "\n",
            "----------------------------------------------------------------------------------------------------\n",
            "+-------------+--------------------+\n",
            "|RENAL_CHRONIC|           normalize|\n",
            "+-------------+--------------------+\n",
            "|            1| 0.01802827647044799|\n",
            "|           98|0.002866747729060...|\n",
            "|            2|  0.9791049758004912|\n",
            "+-------------+--------------------+\n",
            "\n",
            "----------------------------------------------------------------------------------------------------\n",
            "+-------+--------------------+\n",
            "|TOBACCO|           normalize|\n",
            "+-------+--------------------+\n",
            "|      1|  0.0804673008606919|\n",
            "|     98|0.003070834227403...|\n",
            "|      2|  0.9164618649119043|\n",
            "+-------+--------------------+\n",
            "\n",
            "----------------------------------------------------------------------------------------------------\n",
            "+---+--------------------+\n",
            "|ICU|           normalize|\n",
            "+---+--------------------+\n",
            "|  1| 0.01607705695825287|\n",
            "| 97|  0.8092353908876332|\n",
            "|  2|  0.1675464320625611|\n",
            "| 99|0.007141120091552822|\n",
            "+---+--------------------+\n",
            "\n",
            "----------------------------------------------------------------------------------------------------\n"
          ]
        }
      ]
    },
    {
      "cell_type": "code",
      "source": [
        "df = df.withColumn('INTUBED', F.when(df['INTUBED'] == 97, 0).otherwise(df['INTUBED']))\n",
        "df = df.withColumn('INTUBED', F.when(df['INTUBED'].isin([2, 99]), 1).otherwise(df['INTUBED']))\n",
        "\n",
        "df = df.withColumn('PNEUMONIA', F.when(df['PNEUMONIA'] == 2, 0).otherwise(df['PNEUMONIA']))\n",
        "df = df.withColumn('PNEUMONIA', F.when(df['PNEUMONIA'] == 99, 1).otherwise(df['PNEUMONIA']))\n",
        "\n",
        "df = df.withColumn('PREGNANT', F.when(df['PREGNANT'] == 97, 0).otherwise(df['PREGNANT']))\n",
        "df = df.withColumn('PREGNANT', F.when(df['PREGNANT'].isin([2, 98]), 1).otherwise(df['PREGNANT']))\n",
        "\n",
        "df = df.withColumn('DIABETES', F.when(df['DIABETES'] == 2, 0).otherwise(df['DIABETES']))\n",
        "df = df.withColumn('DIABETES', F.when(df['DIABETES'] == 98, 1).otherwise(df['DIABETES']))\n",
        "\n",
        "df = df.withColumn('COPD', F.when(df['COPD'] == 2, 0).otherwise(df['COPD']))\n",
        "df = df.withColumn('COPD', F.when(df['COPD'] == 98, 1).otherwise(df['COPD']))\n",
        "\n",
        "df = df.withColumn('ASTHMA', F.when(df['ASTHMA'] == 2, 0).otherwise(df['ASTHMA']))\n",
        "df = df.withColumn('ASTHMA', F.when(df['ASTHMA'] == 98, 1).otherwise(df['ASTHMA']))\n",
        "\n",
        "df = df.withColumn('INMSUPR', F.when(df['INMSUPR'] == 2, 0).otherwise(df['INMSUPR']))\n",
        "df = df.withColumn('INMSUPR', F.when(df['INMSUPR'] == 98, 1).otherwise(df['INMSUPR']))\n",
        "\n",
        "df = df.withColumn('HIPERTENSION', F.when(df['HIPERTENSION'] == 2, 0).otherwise(df['HIPERTENSION']))\n",
        "df = df.withColumn('HIPERTENSION', F.when(df['HIPERTENSION'] == 98, 1).otherwise(df['HIPERTENSION']))\n",
        "\n",
        "df = df.withColumn('OTHER_DISEASE', F.when(df['OTHER_DISEASE'] == 2, 0).otherwise(df['OTHER_DISEASE']))\n",
        "df = df.withColumn('OTHER_DISEASE', F.when(df['OTHER_DISEASE'] == 98, 1).otherwise(df['OTHER_DISEASE']))\n",
        "\n",
        "df = df.withColumn('CARDIOVASCULAR', F.when(df['CARDIOVASCULAR'] == 2, 0).otherwise(df['CARDIOVASCULAR']))\n",
        "df = df.withColumn('CARDIOVASCULAR', F.when(df['CARDIOVASCULAR'] == 98, 1).otherwise(df['CARDIOVASCULAR']))\n",
        "\n",
        "df = df.withColumn('OBESITY', F.when(df['OBESITY'] == 2, 0).otherwise(df['OBESITY']))\n",
        "df = df.withColumn('OBESITY', F.when(df['OBESITY'] == 98, 1).otherwise(df['OBESITY']))\n",
        "\n",
        "df = df.withColumn('TOBACCO', F.when(df['TOBACCO'] == 2, 0).otherwise(df['TOBACCO']))\n",
        "df = df.withColumn('TOBACCO', F.when(df['TOBACCO'] == 98, 1).otherwise(df['TOBACCO']))\n",
        "\n",
        "df = df.withColumn('ICU', F.when(df['ICU'] == 97, 0).otherwise(df['ICU']))\n",
        "df = df.withColumn('ICU', F.when(df['ICU'].isin([2, 99]), 1).otherwise(df['ICU']))\n",
        "\n",
        "df = df.withColumn('RENAL_CHRONIC', F.when(df['RENAL_CHRONIC'] == 2, 0).otherwise(df['RENAL_CHRONIC']))\n",
        "df = df.withColumn('RENAL_CHRONIC', F.when(df['RENAL_CHRONIC'] == 98, 1).otherwise(df['RENAL_CHRONIC']))"
      ],
      "metadata": {
        "id": "dvHua0yUhpFK"
      },
      "execution_count": null,
      "outputs": []
    },
    {
      "cell_type": "code",
      "source": [
        "df.show()"
      ],
      "metadata": {
        "colab": {
          "base_uri": "https://localhost:8080/"
        },
        "id": "C-7xLPsxhreX",
        "outputId": "82cd4709-0c9f-4e5f-ff89-ba13c475e4da"
      },
      "execution_count": null,
      "outputs": [
        {
          "output_type": "stream",
          "name": "stdout",
          "text": [
            "+-----+------------+---+------------+----------+-------+---------+---+--------+--------+----+------+-------+------------+-------------+--------------+-------+-------------+-------+--------------------+---+-----+\n",
            "|USMER|MEDICAL_UNIT|SEX|PATIENT_TYPE| DATE_DIED|INTUBED|PNEUMONIA|AGE|PREGNANT|DIABETES|COPD|ASTHMA|INMSUPR|HIPERTENSION|OTHER_DISEASE|CARDIOVASCULAR|OBESITY|RENAL_CHRONIC|TOBACCO|CLASIFFICATION_FINAL|ICU|DEATH|\n",
            "+-----+------------+---+------------+----------+-------+---------+---+--------+--------+----+------+-------+------------+-------------+--------------+-------+-------------+-------+--------------------+---+-----+\n",
            "|    2|           1|  1|           1|03/05/2020|      0|        1| 65|       1|       0|   0|     0|      0|           1|            0|             0|      0|            0|      0|                   3|  0|    1|\n",
            "|    2|           1|  2|           1|03/06/2020|      0|        1| 72|       0|       0|   0|     0|      0|           1|            0|             0|      1|            1|      0|                   5|  0|    1|\n",
            "|    2|           1|  2|           2|09/06/2020|      1|        0| 55|       0|       1|   0|     0|      0|           0|            0|             0|      0|            0|      0|                   3|  1|    1|\n",
            "|    2|           1|  1|           1|12/06/2020|      0|        0| 53|       1|       0|   0|     0|      0|           0|            0|             0|      0|            0|      0|                   7|  0|    1|\n",
            "|    2|           1|  2|           1|21/06/2020|      0|        0| 68|       0|       1|   0|     0|      0|           1|            0|             0|      0|            0|      0|                   3|  0|    1|\n",
            "|    2|           1|  1|           2|9999-99-99|      1|        1| 40|       1|       0|   0|     0|      0|           0|            0|             0|      0|            0|      0|                   3|  1|    0|\n",
            "|    2|           1|  1|           1|9999-99-99|      0|        0| 64|       1|       0|   0|     0|      0|           0|            0|             0|      0|            0|      0|                   3|  0|    0|\n",
            "|    2|           1|  1|           1|9999-99-99|      0|        1| 64|       1|       1|   0|     0|      1|           1|            0|             0|      0|            1|      0|                   3|  0|    0|\n",
            "|    2|           1|  1|           2|9999-99-99|      1|        0| 37|       1|       1|   0|     0|      0|           1|            0|             0|      1|            0|      0|                   3|  1|    0|\n",
            "|    2|           1|  1|           2|9999-99-99|      1|        0| 25|       1|       0|   0|     0|      0|           0|            0|             0|      0|            0|      0|                   3|  1|    0|\n",
            "|    2|           1|  1|           1|9999-99-99|      0|        0| 38|       1|       0|   0|     0|      0|           0|            0|             0|      0|            0|      0|                   3|  0|    0|\n",
            "|    2|           1|  2|           2|9999-99-99|      1|        0| 24|       0|       0|   0|     0|      0|           0|            0|             0|      0|            0|      0|                   3|  1|    0|\n",
            "|    2|           1|  2|           2|9999-99-99|      1|        0| 30|       0|       0|   0|     0|      0|           0|            0|             0|      0|            0|      0|                   3|  1|    0|\n",
            "|    2|           1|  2|           1|9999-99-99|      0|        0| 55|       0|       0|   0|     0|      0|           0|            0|             0|      0|            0|      0|                   3|  0|    0|\n",
            "|    2|           1|  1|           1|9999-99-99|      0|        0| 48|       1|       1|   0|     0|      0|           0|            0|             0|      0|            0|      0|                   3|  0|    0|\n",
            "|    2|           1|  1|           1|9999-99-99|      0|        0| 23|       1|       0|   0|     0|      0|           0|            0|             0|      0|            0|      0|                   3|  0|    0|\n",
            "|    2|           1|  1|           2|9999-99-99|      1|        1| 80|       1|       0|   0|     0|      0|           1|            0|             0|      0|            0|      0|                   3|  1|    0|\n",
            "|    2|           1|  2|           1|9999-99-99|      0|        0| 61|       0|       0|   0|     0|      0|           0|            0|             0|      0|            0|      0|                   3|  0|    0|\n",
            "|    2|           1|  2|           1|9999-99-99|      0|        0| 54|       0|       0|   0|     0|      0|           0|            0|             0|      0|            0|      0|                   3|  0|    0|\n",
            "|    2|           1|  1|           1|9999-99-99|      0|        0| 64|       1|       0|   0|     0|      0|           0|            0|             0|      0|            0|      0|                   3|  0|    0|\n",
            "+-----+------------+---+------------+----------+-------+---------+---+--------+--------+----+------+-------+------------+-------------+--------------+-------+-------------+-------+--------------------+---+-----+\n",
            "only showing top 20 rows\n",
            "\n"
          ]
        }
      ]
    },
    {
      "cell_type": "code",
      "source": [
        "df = df.withColumn(\"DEATH\", F.when(F.col(\"DATE_DIED\") == \"9999-99-99\", 0).otherwise(1))"
      ],
      "metadata": {
        "id": "13ofAnlJBbOF"
      },
      "execution_count": null,
      "outputs": []
    },
    {
      "cell_type": "code",
      "source": [
        "df.show()"
      ],
      "metadata": {
        "colab": {
          "base_uri": "https://localhost:8080/"
        },
        "id": "PZ1_JuRvDSW7",
        "outputId": "ef2e7fff-32d3-4441-d28f-22121dc8c13e"
      },
      "execution_count": null,
      "outputs": [
        {
          "output_type": "stream",
          "name": "stdout",
          "text": [
            "+-----+------------+---+------------+----------+-------+---------+---+--------+--------+----+------+-------+------------+-------------+--------------+-------+-------------+-------+--------------------+---+-----+\n",
            "|USMER|MEDICAL_UNIT|SEX|PATIENT_TYPE| DATE_DIED|INTUBED|PNEUMONIA|AGE|PREGNANT|DIABETES|COPD|ASTHMA|INMSUPR|HIPERTENSION|OTHER_DISEASE|CARDIOVASCULAR|OBESITY|RENAL_CHRONIC|TOBACCO|CLASIFFICATION_FINAL|ICU|DEATH|\n",
            "+-----+------------+---+------------+----------+-------+---------+---+--------+--------+----+------+-------+------------+-------------+--------------+-------+-------------+-------+--------------------+---+-----+\n",
            "|    2|           1|  1|           1|03/05/2020|      0|        1| 65|       1|       0|   0|     0|      0|           1|            0|             0|      0|            0|      0|                   3|  0|    1|\n",
            "|    2|           1|  2|           1|03/06/2020|      0|        1| 72|       0|       0|   0|     0|      0|           1|            0|             0|      1|            1|      0|                   5|  0|    1|\n",
            "|    2|           1|  2|           2|09/06/2020|      1|        0| 55|       0|       1|   0|     0|      0|           0|            0|             0|      0|            0|      0|                   3|  1|    1|\n",
            "|    2|           1|  1|           1|12/06/2020|      0|        0| 53|       1|       0|   0|     0|      0|           0|            0|             0|      0|            0|      0|                   7|  0|    1|\n",
            "|    2|           1|  2|           1|21/06/2020|      0|        0| 68|       0|       1|   0|     0|      0|           1|            0|             0|      0|            0|      0|                   3|  0|    1|\n",
            "|    2|           1|  1|           2|9999-99-99|      1|        1| 40|       1|       0|   0|     0|      0|           0|            0|             0|      0|            0|      0|                   3|  1|    0|\n",
            "|    2|           1|  1|           1|9999-99-99|      0|        0| 64|       1|       0|   0|     0|      0|           0|            0|             0|      0|            0|      0|                   3|  0|    0|\n",
            "|    2|           1|  1|           1|9999-99-99|      0|        1| 64|       1|       1|   0|     0|      1|           1|            0|             0|      0|            1|      0|                   3|  0|    0|\n",
            "|    2|           1|  1|           2|9999-99-99|      1|        0| 37|       1|       1|   0|     0|      0|           1|            0|             0|      1|            0|      0|                   3|  1|    0|\n",
            "|    2|           1|  1|           2|9999-99-99|      1|        0| 25|       1|       0|   0|     0|      0|           0|            0|             0|      0|            0|      0|                   3|  1|    0|\n",
            "|    2|           1|  1|           1|9999-99-99|      0|        0| 38|       1|       0|   0|     0|      0|           0|            0|             0|      0|            0|      0|                   3|  0|    0|\n",
            "|    2|           1|  2|           2|9999-99-99|      1|        0| 24|       0|       0|   0|     0|      0|           0|            0|             0|      0|            0|      0|                   3|  1|    0|\n",
            "|    2|           1|  2|           2|9999-99-99|      1|        0| 30|       0|       0|   0|     0|      0|           0|            0|             0|      0|            0|      0|                   3|  1|    0|\n",
            "|    2|           1|  2|           1|9999-99-99|      0|        0| 55|       0|       0|   0|     0|      0|           0|            0|             0|      0|            0|      0|                   3|  0|    0|\n",
            "|    2|           1|  1|           1|9999-99-99|      0|        0| 48|       1|       1|   0|     0|      0|           0|            0|             0|      0|            0|      0|                   3|  0|    0|\n",
            "|    2|           1|  1|           1|9999-99-99|      0|        0| 23|       1|       0|   0|     0|      0|           0|            0|             0|      0|            0|      0|                   3|  0|    0|\n",
            "|    2|           1|  1|           2|9999-99-99|      1|        1| 80|       1|       0|   0|     0|      0|           1|            0|             0|      0|            0|      0|                   3|  1|    0|\n",
            "|    2|           1|  2|           1|9999-99-99|      0|        0| 61|       0|       0|   0|     0|      0|           0|            0|             0|      0|            0|      0|                   3|  0|    0|\n",
            "|    2|           1|  2|           1|9999-99-99|      0|        0| 54|       0|       0|   0|     0|      0|           0|            0|             0|      0|            0|      0|                   3|  0|    0|\n",
            "|    2|           1|  1|           1|9999-99-99|      0|        0| 64|       1|       0|   0|     0|      0|           0|            0|             0|      0|            0|      0|                   3|  0|    0|\n",
            "+-----+------------+---+------------+----------+-------+---------+---+--------+--------+----+------+-------+------------+-------------+--------------+-------+-------------+-------+--------------------+---+-----+\n",
            "only showing top 20 rows\n",
            "\n"
          ]
        }
      ]
    },
    {
      "cell_type": "code",
      "source": [
        "import matplotlib.pyplot as plt\n",
        "\n",
        "# Suponha que 'df' é seu DataFrame PySpark\n",
        "pandas_df = df.toPandas()\n",
        "\n",
        "# Cria um gráfico de barras da coluna 'DEATH'\n",
        "pandas_df['DEATH'].value_counts().plot(kind='bar')\n",
        "\n",
        "# Mostra o gráfico\n",
        "plt.show()"
      ],
      "metadata": {
        "colab": {
          "base_uri": "https://localhost:8080/",
          "height": 440
        },
        "id": "buayMSFaFJvk",
        "outputId": "f435aef5-ae42-41f2-e039-d3b804f1c146"
      },
      "execution_count": null,
      "outputs": [
        {
          "output_type": "display_data",
          "data": {
            "text/plain": [
              "<Figure size 640x480 with 1 Axes>"
            ],
            "image/png": "[encoded data removed]"
          },
          "metadata": {}
        }
      ]
    },
    {
      "cell_type": "code",
      "source": [
        "from pyspark.ml.feature import VectorAssembler\n",
        "\n",
        "assembler = VectorAssembler(inputCols=[\"AGE\", \"INTUBED\", \"PNEUMONIA\", \"DIABETES\", \"OBESITY\", \"CARDIOVASCULAR\", \"TOBACCO\" ], outputCol=\"features\")\n",
        "dados = assembler.transform(df).select(\"DEATH\", \"features\").withColumnRenamed(\"DEATH\", \"label\")\n",
        "\n",
        "dados.show()"
      ],
      "metadata": {
        "colab": {
          "base_uri": "https://localhost:8080/"
        },
        "id": "L_PQ9mtfOXo0",
        "outputId": "6ed7b352-2cef-46cc-eb38-18202cc3ad94"
      },
      "execution_count": null,
      "outputs": [
        {
          "output_type": "stream",
          "name": "stdout",
          "text": [
            "+-----+--------------------+\n",
            "|label|            features|\n",
            "+-----+--------------------+\n",
            "|    1|(7,[0,2],[65.0,1.0])|\n",
            "|    1|(7,[0,2,4],[72.0,...|\n",
            "|    1|(7,[0,1,3],[55.0,...|\n",
            "|    1|      (7,[0],[53.0])|\n",
            "|    1|(7,[0,3],[68.0,1.0])|\n",
            "|    0|(7,[0,1,2],[40.0,...|\n",
            "|    0|      (7,[0],[64.0])|\n",
            "|    0|(7,[0,2,3],[64.0,...|\n",
            "|    0|[37.0,1.0,0.0,1.0...|\n",
            "|    0|(7,[0,1],[25.0,1.0])|\n",
            "|    0|      (7,[0],[38.0])|\n",
            "|    0|(7,[0,1],[24.0,1.0])|\n",
            "|    0|(7,[0,1],[30.0,1.0])|\n",
            "|    0|      (7,[0],[55.0])|\n",
            "|    0|(7,[0,3],[48.0,1.0])|\n",
            "|    0|      (7,[0],[23.0])|\n",
            "|    0|(7,[0,1,2],[80.0,...|\n",
            "|    0|      (7,[0],[61.0])|\n",
            "|    0|      (7,[0],[54.0])|\n",
            "|    0|      (7,[0],[64.0])|\n",
            "+-----+--------------------+\n",
            "only showing top 20 rows\n",
            "\n"
          ]
        }
      ]
    },
    {
      "cell_type": "code",
      "source": [
        "train_data, test_data = dados.randomSplit([0.75, 0.25], seed=42)"
      ],
      "metadata": {
        "id": "u_QzrvuVnRhV"
      },
      "execution_count": null,
      "outputs": []
    },
    {
      "cell_type": "code",
      "source": [
        "from pyspark.ml.regression import LinearRegression\n",
        "\n",
        "# Inicializando um modelo de Regressão Linear\n",
        "lr = LinearRegression(regParam=0.3)\n",
        "\n",
        "# Treinando o modelo\n",
        "model = lr.fit(train_data)"
      ],
      "metadata": {
        "id": "TyUcX5_ZolEO"
      },
      "execution_count": null,
      "outputs": []
    },
    {
      "cell_type": "code",
      "source": [
        "# Fazendo previsões no conjunto de teste\n",
        "predictions = model.transform(test_data).show()\n"
      ],
      "metadata": {
        "colab": {
          "base_uri": "https://localhost:8080/"
        },
        "id": "vR44vf3Io1-N",
        "outputId": "71d12476-ffe8-4b29-dbad-f6ee1f9f115a"
      },
      "execution_count": null,
      "outputs": [
        {
          "output_type": "stream",
          "name": "stdout",
          "text": [
            "+-----+---------+--------------------+\n",
            "|label| features|          prediction|\n",
            "+-----+---------+--------------------+\n",
            "|    0|(7,[],[])|-0.03428625672844...|\n",
            "|    0|(7,[],[])|-0.03428625672844...|\n",
            "|    0|(7,[],[])|-0.03428625672844...|\n",
            "|    0|(7,[],[])|-0.03428625672844...|\n",
            "|    0|(7,[],[])|-0.03428625672844...|\n",
            "|    0|(7,[],[])|-0.03428625672844...|\n",
            "|    0|(7,[],[])|-0.03428625672844...|\n",
            "|    0|(7,[],[])|-0.03428625672844...|\n",
            "|    0|(7,[],[])|-0.03428625672844...|\n",
            "|    0|(7,[],[])|-0.03428625672844...|\n",
            "|    0|(7,[],[])|-0.03428625672844...|\n",
            "|    0|(7,[],[])|-0.03428625672844...|\n",
            "|    0|(7,[],[])|-0.03428625672844...|\n",
            "|    0|(7,[],[])|-0.03428625672844...|\n",
            "|    0|(7,[],[])|-0.03428625672844...|\n",
            "|    0|(7,[],[])|-0.03428625672844...|\n",
            "|    0|(7,[],[])|-0.03428625672844...|\n",
            "|    0|(7,[],[])|-0.03428625672844...|\n",
            "|    0|(7,[],[])|-0.03428625672844...|\n",
            "|    0|(7,[],[])|-0.03428625672844...|\n",
            "+-----+---------+--------------------+\n",
            "only showing top 20 rows\n",
            "\n"
          ]
        }
      ]
    }
  ]
}